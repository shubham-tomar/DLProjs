{
  "nbformat": 4,
  "nbformat_minor": 0,
  "metadata": {
    "colab": {
      "name": "Stacked-LSTM-stockMarketPrediction.ipynb",
      "provenance": [],
      "collapsed_sections": [],
      "authorship_tag": "ABX9TyNDYjDUZYAp/UA3ILrge6xY",
      "include_colab_link": true
    },
    "kernelspec": {
      "name": "python3",
      "display_name": "Python 3"
    },
    "accelerator": "GPU"
  },
  "cells": [
    {
      "cell_type": "markdown",
      "metadata": {
        "id": "view-in-github",
        "colab_type": "text"
      },
      "source": [
        "<a href=\"https://colab.research.google.com/github/shubham-tomar/DLProjs/blob/master/Stacked_LSTM_stockMarketPrediction.ipynb\" target=\"_parent\"><img src=\"https://colab.research.google.com/assets/colab-badge.svg\" alt=\"Open In Colab\"/></a>"
      ]
    },
    {
      "cell_type": "code",
      "metadata": {
        "id": "NMkMjg9YFCCL",
        "colab_type": "code",
        "colab": {}
      },
      "source": [
        "\n",
        "### Data Collection\n",
        "import pandas_datareader as pdr\n",
        "key=\"\" #you need to login to tiingo and go to API -> Documentation -> authentication \n",
        "df = pdr.get_data_tiingo('TSLA', api_key=key)"
      ],
      "execution_count": 88,
      "outputs": []
    },
    {
      "cell_type": "code",
      "metadata": {
        "id": "oZwnXGtlYqMo",
        "colab_type": "code",
        "colab": {}
      },
      "source": [
        "df.to_csv('TSLA.csv')\n"
      ],
      "execution_count": 89,
      "outputs": []
    },
    {
      "cell_type": "code",
      "metadata": {
        "id": "DNEyu8ndblWD",
        "colab_type": "code",
        "colab": {}
      },
      "source": [
        "import pandas as pd\n",
        "import numpy as np\n",
        "import matplotlib.pyplot as plt\n",
        "\n",
        "%matplotlib inline \n"
      ],
      "execution_count": 90,
      "outputs": []
    },
    {
      "cell_type": "code",
      "metadata": {
        "id": "Q-ETEqtMcvN3",
        "colab_type": "code",
        "colab": {
          "base_uri": "https://localhost:8080/",
          "height": 282
        },
        "outputId": "ed1890f3-7738-4f41-e548-b9e387f8d7ed"
      },
      "source": [
        "df1 = df.reset_index()['close']\n",
        "plt.plot(df1)"
      ],
      "execution_count": 91,
      "outputs": [
        {
          "output_type": "execute_result",
          "data": {
            "text/plain": [
              "[<matplotlib.lines.Line2D at 0x7fc86e662780>]"
            ]
          },
          "metadata": {
            "tags": []
          },
          "execution_count": 91
        },
        {
          "output_type": "display_data",
          "data": {
            "image/png": "[encoded data removed]",
            "text/plain": [
              "<Figure size 432x288 with 1 Axes>"
            ]
          },
          "metadata": {
            "tags": [],
            "needs_background": "light"
          }
        }
      ]
    },
    {
      "cell_type": "code",
      "metadata": {
        "id": "IOxqfelLoEQH",
        "colab_type": "code",
        "colab": {
          "base_uri": "https://localhost:8080/",
          "height": 235
        },
        "outputId": "b11cabd1-7b75-498c-b231-3bd479e0ab74"
      },
      "source": [
        "df.tail()"
      ],
      "execution_count": 92,
      "outputs": [
        {
          "output_type": "execute_result",
          "data": {
            "text/html": [
              "<div>\n",
              "<style scoped>\n",
              "    .dataframe tbody tr th:only-of-type {\n",
              "        vertical-align: middle;\n",
              "    }\n",
              "\n",
              "    .dataframe tbody tr th {\n",
              "        vertical-align: top;\n",
              "    }\n",
              "\n",
              "    .dataframe thead th {\n",
              "        text-align: right;\n",
              "    }\n",
              "</style>\n",
              "<table border=\"1\" class=\"dataframe\">\n",
              "  <thead>\n",
              "    <tr style=\"text-align: right;\">\n",
              "      <th></th>\n",
              "      <th></th>\n",
              "      <th>close</th>\n",
              "      <th>high</th>\n",
              "      <th>low</th>\n",
              "      <th>open</th>\n",
              "      <th>volume</th>\n",
              "      <th>adjClose</th>\n",
              "      <th>adjHigh</th>\n",
              "      <th>adjLow</th>\n",
              "      <th>adjOpen</th>\n",
              "      <th>adjVolume</th>\n",
              "      <th>divCash</th>\n",
              "      <th>splitFactor</th>\n",
              "    </tr>\n",
              "    <tr>\n",
              "      <th>symbol</th>\n",
              "      <th>date</th>\n",
              "      <th></th>\n",
              "      <th></th>\n",
              "      <th></th>\n",
              "      <th></th>\n",
              "      <th></th>\n",
              "      <th></th>\n",
              "      <th></th>\n",
              "      <th></th>\n",
              "      <th></th>\n",
              "      <th></th>\n",
              "      <th></th>\n",
              "      <th></th>\n",
              "    </tr>\n",
              "  </thead>\n",
              "  <tbody>\n",
              "    <tr>\n",
              "      <th rowspan=\"5\" valign=\"top\">TSLA</th>\n",
              "      <th>2020-09-04 00:00:00+00:00</th>\n",
              "      <td>418.32</td>\n",
              "      <td>428.00</td>\n",
              "      <td>372.0201</td>\n",
              "      <td>402.81</td>\n",
              "      <td>110321885</td>\n",
              "      <td>418.32</td>\n",
              "      <td>428.00</td>\n",
              "      <td>372.0201</td>\n",
              "      <td>402.81</td>\n",
              "      <td>110321885</td>\n",
              "      <td>0.0</td>\n",
              "      <td>1.0</td>\n",
              "    </tr>\n",
              "    <tr>\n",
              "      <th>2020-09-08 00:00:00+00:00</th>\n",
              "      <td>330.21</td>\n",
              "      <td>368.74</td>\n",
              "      <td>329.8800</td>\n",
              "      <td>356.00</td>\n",
              "      <td>115465691</td>\n",
              "      <td>330.21</td>\n",
              "      <td>368.74</td>\n",
              "      <td>329.8800</td>\n",
              "      <td>356.00</td>\n",
              "      <td>115465691</td>\n",
              "      <td>0.0</td>\n",
              "      <td>1.0</td>\n",
              "    </tr>\n",
              "    <tr>\n",
              "      <th>2020-09-09 00:00:00+00:00</th>\n",
              "      <td>366.28</td>\n",
              "      <td>369.00</td>\n",
              "      <td>341.5100</td>\n",
              "      <td>356.60</td>\n",
              "      <td>79465769</td>\n",
              "      <td>366.28</td>\n",
              "      <td>369.00</td>\n",
              "      <td>341.5100</td>\n",
              "      <td>356.60</td>\n",
              "      <td>79465769</td>\n",
              "      <td>0.0</td>\n",
              "      <td>1.0</td>\n",
              "    </tr>\n",
              "    <tr>\n",
              "      <th>2020-09-10 00:00:00+00:00</th>\n",
              "      <td>371.34</td>\n",
              "      <td>398.99</td>\n",
              "      <td>360.5600</td>\n",
              "      <td>386.21</td>\n",
              "      <td>84930608</td>\n",
              "      <td>371.34</td>\n",
              "      <td>398.99</td>\n",
              "      <td>360.5600</td>\n",
              "      <td>386.21</td>\n",
              "      <td>84930608</td>\n",
              "      <td>0.0</td>\n",
              "      <td>1.0</td>\n",
              "    </tr>\n",
              "    <tr>\n",
              "      <th>2020-09-11 00:00:00+00:00</th>\n",
              "      <td>372.72</td>\n",
              "      <td>382.50</td>\n",
              "      <td>360.5000</td>\n",
              "      <td>381.94</td>\n",
              "      <td>60717459</td>\n",
              "      <td>372.72</td>\n",
              "      <td>382.50</td>\n",
              "      <td>360.5000</td>\n",
              "      <td>381.94</td>\n",
              "      <td>60717459</td>\n",
              "      <td>0.0</td>\n",
              "      <td>1.0</td>\n",
              "    </tr>\n",
              "  </tbody>\n",
              "</table>\n",
              "</div>"
            ],
            "text/plain": [
              "                                   close    high  ...  divCash  splitFactor\n",
              "symbol date                                       ...                      \n",
              "TSLA   2020-09-04 00:00:00+00:00  418.32  428.00  ...      0.0          1.0\n",
              "       2020-09-08 00:00:00+00:00  330.21  368.74  ...      0.0          1.0\n",
              "       2020-09-09 00:00:00+00:00  366.28  369.00  ...      0.0          1.0\n",
              "       2020-09-10 00:00:00+00:00  371.34  398.99  ...      0.0          1.0\n",
              "       2020-09-11 00:00:00+00:00  372.72  382.50  ...      0.0          1.0\n",
              "\n",
              "[5 rows x 12 columns]"
            ]
          },
          "metadata": {
            "tags": []
          },
          "execution_count": 92
        }
      ]
    },
    {
      "cell_type": "code",
      "metadata": {
        "id": "sRqJv5tddG4N",
        "colab_type": "code",
        "colab": {}
      },
      "source": [
        "from sklearn.preprocessing import MinMaxScaler\n",
        "scaler = MinMaxScaler(feature_range = (0,1))\n",
        "df1 = scaler.fit_transform(np.array(df1).reshape(-1,1))"
      ],
      "execution_count": 93,
      "outputs": []
    },
    {
      "cell_type": "code",
      "metadata": {
        "id": "9JBMzOU5dxhz",
        "colab_type": "code",
        "colab": {}
      },
      "source": [
        "##splitting dataset into train and test split\n",
        "training_size=int(len(df1)*0.65)\n",
        "test_size=len(df1)-training_size\n",
        "train_data,test_data=df1[0:training_size,:],df1[training_size:len(df1),:1]"
      ],
      "execution_count": 126,
      "outputs": []
    },
    {
      "cell_type": "code",
      "metadata": {
        "id": "NHqOioaqnsfj",
        "colab_type": "code",
        "colab": {
          "base_uri": "https://localhost:8080/",
          "height": 34
        },
        "outputId": "ee2a355a-4917-45da-90ee-642dce02eb65"
      },
      "source": [
        "training_size,test_size"
      ],
      "execution_count": 127,
      "outputs": [
        {
          "output_type": "execute_result",
          "data": {
            "text/plain": [
              "(817, 440)"
            ]
          },
          "metadata": {
            "tags": []
          },
          "execution_count": 127
        }
      ]
    },
    {
      "cell_type": "code",
      "metadata": {
        "id": "FIhNCaSaf9nx",
        "colab_type": "code",
        "colab": {}
      },
      "source": [
        "# convert an array of values into a dataset matrix\n",
        "def create_dataset(dataset, time_step=1):\n",
        "\tdataX, dataY = [], []\n",
        "\tfor i in range(len(dataset)-time_step-1):\n",
        "\t\ta = dataset[i:(i+time_step), 0]   ###i=0, 0,1,2,3-----99   100 \n",
        "\t\tdataX.append(a)\n",
        "\t\tdataY.append(dataset[i + time_step, 0])\n",
        "\treturn np.array(dataX), np.array(dataY)"
      ],
      "execution_count": 128,
      "outputs": []
    },
    {
      "cell_type": "code",
      "metadata": {
        "id": "qAD2GNt5h-iC",
        "colab_type": "code",
        "colab": {}
      },
      "source": [
        "\n",
        "# reshape into X=t,t+1,t+2,t+3 and Y=t+4\n",
        "time_step = 100\n",
        "X_train, y_train = create_dataset(train_data, time_step)\n",
        "X_test, ytest = create_dataset(test_data, time_step)"
      ],
      "execution_count": 129,
      "outputs": []
    },
    {
      "cell_type": "code",
      "metadata": {
        "id": "wT1AtOYeiDZr",
        "colab_type": "code",
        "colab": {}
      },
      "source": [
        "\n",
        "# reshape input to be [samples, time steps, features] which is required for LSTM\n",
        "X_train =X_train.reshape(X_train.shape[0],X_train.shape[1] , 1)\n",
        "X_test = X_test.reshape(X_test.shape[0],X_test.shape[1] , 1)"
      ],
      "execution_count": 130,
      "outputs": []
    },
    {
      "cell_type": "code",
      "metadata": {
        "id": "ocLBd71hnEt-",
        "colab_type": "code",
        "colab": {
          "base_uri": "https://localhost:8080/",
          "height": 68
        },
        "outputId": "68897563-0eeb-4e20-c097-0d1a2608a7fc"
      },
      "source": [
        "print(X_test.shape), print(ytest.shape)"
      ],
      "execution_count": 131,
      "outputs": [
        {
          "output_type": "stream",
          "text": [
            "(339, 100, 1)\n",
            "(339,)\n"
          ],
          "name": "stdout"
        },
        {
          "output_type": "execute_result",
          "data": {
            "text/plain": [
              "(None, None)"
            ]
          },
          "metadata": {
            "tags": []
          },
          "execution_count": 131
        }
      ]
    },
    {
      "cell_type": "code",
      "metadata": {
        "id": "Lfwu8pI-iHtx",
        "colab_type": "code",
        "colab": {}
      },
      "source": [
        "\n",
        "### Create the Stacked LSTM model\n",
        "from tensorflow.keras.models import Sequential\n",
        "from tensorflow.keras.layers import Dense\n",
        "from tensorflow.keras.layers import LSTM\n",
        "from tensorflow_addons.optimizers import AdamW\n",
        "import tensorflow as tf"
      ],
      "execution_count": 132,
      "outputs": []
    },
    {
      "cell_type": "code",
      "metadata": {
        "id": "E2cQAQ0hiKq1",
        "colab_type": "code",
        "colab": {}
      },
      "source": [
        "# optimizer=tf.keras.optimizers.Adam(learning_rate=1e-3))\n",
        "\n",
        "model=Sequential()\n",
        "model.add(LSTM(50,return_sequences=True,input_shape=(100,1)))\n",
        "model.add(LSTM(50,return_sequences=True))\n",
        "model.add(LSTM(50))\n",
        "model.add(Dense(1))\n",
        "model.compile(loss='mean_squared_error',optimizer='adam')"
      ],
      "execution_count": 133,
      "outputs": []
    },
    {
      "cell_type": "code",
      "metadata": {
        "id": "fDcKS54CiPbg",
        "colab_type": "code",
        "colab": {
          "base_uri": "https://localhost:8080/",
          "height": 289
        },
        "outputId": "807b6891-3539-46c3-86af-68975507e6e4"
      },
      "source": [
        "model.summary()"
      ],
      "execution_count": 134,
      "outputs": [
        {
          "output_type": "stream",
          "text": [
            "Model: \"sequential_11\"\n",
            "_________________________________________________________________\n",
            "Layer (type)                 Output Shape              Param #   \n",
            "=================================================================\n",
            "lstm_33 (LSTM)               (None, 100, 50)           10400     \n",
            "_________________________________________________________________\n",
            "lstm_34 (LSTM)               (None, 100, 50)           20200     \n",
            "_________________________________________________________________\n",
            "lstm_35 (LSTM)               (None, 50)                20200     \n",
            "_________________________________________________________________\n",
            "dense_11 (Dense)             (None, 1)                 51        \n",
            "=================================================================\n",
            "Total params: 50,851\n",
            "Trainable params: 50,851\n",
            "Non-trainable params: 0\n",
            "_________________________________________________________________\n"
          ],
          "name": "stdout"
        }
      ]
    },
    {
      "cell_type": "code",
      "metadata": {
        "id": "aEHBkhkyjVS7",
        "colab_type": "code",
        "colab": {
          "base_uri": "https://localhost:8080/",
          "height": 1000
        },
        "outputId": "3bb83481-fd0e-4dfe-d6af-33de806bf7ce"
      },
      "source": [
        "model.fit(X_train,y_train,validation_data=(X_test,ytest),epochs=100,batch_size=54,verbose=1)"
      ],
      "execution_count": 135,
      "outputs": [
        {
          "output_type": "stream",
          "text": [
            "Epoch 1/100\n",
            "14/14 [==============================] - 1s 86ms/step - loss: 0.0013 - val_loss: 0.0496\n",
            "Epoch 2/100\n",
            "14/14 [==============================] - 0s 19ms/step - loss: 4.8690e-04 - val_loss: 0.0336\n",
            "Epoch 3/100\n",
            "14/14 [==============================] - 0s 19ms/step - loss: 2.0941e-04 - val_loss: 0.0131\n",
            "Epoch 4/100\n",
            "14/14 [==============================] - 0s 17ms/step - loss: 1.2781e-04 - val_loss: 0.0146\n",
            "Epoch 5/100\n",
            "14/14 [==============================] - 0s 18ms/step - loss: 1.1597e-04 - val_loss: 0.0141\n",
            "Epoch 6/100\n",
            "14/14 [==============================] - 0s 17ms/step - loss: 1.1884e-04 - val_loss: 0.0133\n",
            "Epoch 7/100\n",
            "14/14 [==============================] - 0s 18ms/step - loss: 1.0898e-04 - val_loss: 0.0132\n",
            "Epoch 8/100\n",
            "14/14 [==============================] - 0s 18ms/step - loss: 1.0303e-04 - val_loss: 0.0132\n",
            "Epoch 9/100\n",
            "14/14 [==============================] - 0s 18ms/step - loss: 1.0598e-04 - val_loss: 0.0126\n",
            "Epoch 10/100\n",
            "14/14 [==============================] - 0s 18ms/step - loss: 9.9589e-05 - val_loss: 0.0127\n",
            "Epoch 11/100\n",
            "14/14 [==============================] - 0s 18ms/step - loss: 9.1190e-05 - val_loss: 0.0124\n",
            "Epoch 12/100\n",
            "14/14 [==============================] - 0s 17ms/step - loss: 9.3217e-05 - val_loss: 0.0124\n",
            "Epoch 13/100\n",
            "14/14 [==============================] - 0s 18ms/step - loss: 8.7249e-05 - val_loss: 0.0122\n",
            "Epoch 14/100\n",
            "14/14 [==============================] - 0s 17ms/step - loss: 9.1059e-05 - val_loss: 0.0120\n",
            "Epoch 15/100\n",
            "14/14 [==============================] - 0s 17ms/step - loss: 8.9459e-05 - val_loss: 0.0119\n",
            "Epoch 16/100\n",
            "14/14 [==============================] - 0s 17ms/step - loss: 8.1091e-05 - val_loss: 0.0113\n",
            "Epoch 17/100\n",
            "14/14 [==============================] - 0s 18ms/step - loss: 7.9451e-05 - val_loss: 0.0112\n",
            "Epoch 18/100\n",
            "14/14 [==============================] - 0s 17ms/step - loss: 7.4784e-05 - val_loss: 0.0112\n",
            "Epoch 19/100\n",
            "14/14 [==============================] - 0s 17ms/step - loss: 7.3305e-05 - val_loss: 0.0116\n",
            "Epoch 20/100\n",
            "14/14 [==============================] - 0s 17ms/step - loss: 7.4731e-05 - val_loss: 0.0104\n",
            "Epoch 21/100\n",
            "14/14 [==============================] - 0s 18ms/step - loss: 6.8131e-05 - val_loss: 0.0105\n",
            "Epoch 22/100\n",
            "14/14 [==============================] - 0s 17ms/step - loss: 6.6321e-05 - val_loss: 0.0107\n",
            "Epoch 23/100\n",
            "14/14 [==============================] - 0s 17ms/step - loss: 6.4355e-05 - val_loss: 0.0095\n",
            "Epoch 24/100\n",
            "14/14 [==============================] - 0s 17ms/step - loss: 6.2032e-05 - val_loss: 0.0101\n",
            "Epoch 25/100\n",
            "14/14 [==============================] - 0s 18ms/step - loss: 6.7275e-05 - val_loss: 0.0106\n",
            "Epoch 26/100\n",
            "14/14 [==============================] - 0s 17ms/step - loss: 5.8015e-05 - val_loss: 0.0090\n",
            "Epoch 27/100\n",
            "14/14 [==============================] - 0s 17ms/step - loss: 5.6969e-05 - val_loss: 0.0090\n",
            "Epoch 28/100\n",
            "14/14 [==============================] - 0s 17ms/step - loss: 5.8524e-05 - val_loss: 0.0099\n",
            "Epoch 29/100\n",
            "14/14 [==============================] - 0s 18ms/step - loss: 6.2996e-05 - val_loss: 0.0107\n",
            "Epoch 30/100\n",
            "14/14 [==============================] - 0s 17ms/step - loss: 7.2030e-05 - val_loss: 0.0098\n",
            "Epoch 31/100\n",
            "14/14 [==============================] - 0s 17ms/step - loss: 5.7154e-05 - val_loss: 0.0086\n",
            "Epoch 32/100\n",
            "14/14 [==============================] - 0s 17ms/step - loss: 4.8683e-05 - val_loss: 0.0088\n",
            "Epoch 33/100\n",
            "14/14 [==============================] - 0s 18ms/step - loss: 5.0748e-05 - val_loss: 0.0089\n",
            "Epoch 34/100\n",
            "14/14 [==============================] - 0s 19ms/step - loss: 4.8272e-05 - val_loss: 0.0091\n",
            "Epoch 35/100\n",
            "14/14 [==============================] - 0s 18ms/step - loss: 4.7561e-05 - val_loss: 0.0093\n",
            "Epoch 36/100\n",
            "14/14 [==============================] - 0s 18ms/step - loss: 4.4496e-05 - val_loss: 0.0083\n",
            "Epoch 37/100\n",
            "14/14 [==============================] - 0s 18ms/step - loss: 4.4640e-05 - val_loss: 0.0081\n",
            "Epoch 38/100\n",
            "14/14 [==============================] - 0s 18ms/step - loss: 4.6179e-05 - val_loss: 0.0083\n",
            "Epoch 39/100\n",
            "14/14 [==============================] - 0s 17ms/step - loss: 4.1888e-05 - val_loss: 0.0083\n",
            "Epoch 40/100\n",
            "14/14 [==============================] - 0s 18ms/step - loss: 4.1826e-05 - val_loss: 0.0090\n",
            "Epoch 41/100\n",
            "14/14 [==============================] - 0s 18ms/step - loss: 3.9640e-05 - val_loss: 0.0088\n",
            "Epoch 42/100\n",
            "14/14 [==============================] - 0s 17ms/step - loss: 4.2452e-05 - val_loss: 0.0081\n",
            "Epoch 43/100\n",
            "14/14 [==============================] - 0s 17ms/step - loss: 3.8844e-05 - val_loss: 0.0079\n",
            "Epoch 44/100\n",
            "14/14 [==============================] - 0s 17ms/step - loss: 3.8643e-05 - val_loss: 0.0095\n",
            "Epoch 45/100\n",
            "14/14 [==============================] - 0s 18ms/step - loss: 4.2423e-05 - val_loss: 0.0089\n",
            "Epoch 46/100\n",
            "14/14 [==============================] - 0s 17ms/step - loss: 3.9296e-05 - val_loss: 0.0075\n",
            "Epoch 47/100\n",
            "14/14 [==============================] - 0s 17ms/step - loss: 3.6940e-05 - val_loss: 0.0085\n",
            "Epoch 48/100\n",
            "14/14 [==============================] - 0s 18ms/step - loss: 3.6126e-05 - val_loss: 0.0077\n",
            "Epoch 49/100\n",
            "14/14 [==============================] - 0s 17ms/step - loss: 3.5655e-05 - val_loss: 0.0083\n",
            "Epoch 50/100\n",
            "14/14 [==============================] - 0s 17ms/step - loss: 3.9255e-05 - val_loss: 0.0085\n",
            "Epoch 51/100\n",
            "14/14 [==============================] - 0s 17ms/step - loss: 4.0399e-05 - val_loss: 0.0084\n",
            "Epoch 52/100\n",
            "14/14 [==============================] - 0s 18ms/step - loss: 3.3920e-05 - val_loss: 0.0082\n",
            "Epoch 53/100\n",
            "14/14 [==============================] - 0s 18ms/step - loss: 3.3130e-05 - val_loss: 0.0073\n",
            "Epoch 54/100\n",
            "14/14 [==============================] - 0s 17ms/step - loss: 3.2816e-05 - val_loss: 0.0083\n",
            "Epoch 55/100\n",
            "14/14 [==============================] - 0s 17ms/step - loss: 3.1183e-05 - val_loss: 0.0078\n",
            "Epoch 56/100\n",
            "14/14 [==============================] - 0s 17ms/step - loss: 3.4274e-05 - val_loss: 0.0077\n",
            "Epoch 57/100\n",
            "14/14 [==============================] - 0s 18ms/step - loss: 3.1178e-05 - val_loss: 0.0086\n",
            "Epoch 58/100\n",
            "14/14 [==============================] - 0s 17ms/step - loss: 3.5204e-05 - val_loss: 0.0085\n",
            "Epoch 59/100\n",
            "14/14 [==============================] - 0s 17ms/step - loss: 3.1643e-05 - val_loss: 0.0069\n",
            "Epoch 60/100\n",
            "14/14 [==============================] - 0s 18ms/step - loss: 3.6350e-05 - val_loss: 0.0067\n",
            "Epoch 61/100\n",
            "14/14 [==============================] - 0s 18ms/step - loss: 3.0599e-05 - val_loss: 0.0074\n",
            "Epoch 62/100\n",
            "14/14 [==============================] - 0s 18ms/step - loss: 3.0600e-05 - val_loss: 0.0081\n",
            "Epoch 63/100\n",
            "14/14 [==============================] - 0s 17ms/step - loss: 2.9114e-05 - val_loss: 0.0081\n",
            "Epoch 64/100\n",
            "14/14 [==============================] - 0s 18ms/step - loss: 3.5244e-05 - val_loss: 0.0076\n",
            "Epoch 65/100\n",
            "14/14 [==============================] - 0s 18ms/step - loss: 3.1091e-05 - val_loss: 0.0072\n",
            "Epoch 66/100\n",
            "14/14 [==============================] - 0s 17ms/step - loss: 2.7367e-05 - val_loss: 0.0075\n",
            "Epoch 67/100\n",
            "14/14 [==============================] - 0s 17ms/step - loss: 2.7959e-05 - val_loss: 0.0079\n",
            "Epoch 68/100\n",
            "14/14 [==============================] - 0s 18ms/step - loss: 3.0835e-05 - val_loss: 0.0074\n",
            "Epoch 69/100\n",
            "14/14 [==============================] - 0s 17ms/step - loss: 3.3862e-05 - val_loss: 0.0070\n",
            "Epoch 70/100\n",
            "14/14 [==============================] - 0s 18ms/step - loss: 2.7047e-05 - val_loss: 0.0067\n",
            "Epoch 71/100\n",
            "14/14 [==============================] - 0s 17ms/step - loss: 2.6409e-05 - val_loss: 0.0072\n",
            "Epoch 72/100\n",
            "14/14 [==============================] - 0s 18ms/step - loss: 2.8552e-05 - val_loss: 0.0072\n",
            "Epoch 73/100\n",
            "14/14 [==============================] - 0s 17ms/step - loss: 2.7050e-05 - val_loss: 0.0071\n",
            "Epoch 74/100\n",
            "14/14 [==============================] - 0s 18ms/step - loss: 2.6894e-05 - val_loss: 0.0075\n",
            "Epoch 75/100\n",
            "14/14 [==============================] - 0s 18ms/step - loss: 2.7385e-05 - val_loss: 0.0073\n",
            "Epoch 76/100\n",
            "14/14 [==============================] - 0s 18ms/step - loss: 2.5008e-05 - val_loss: 0.0068\n",
            "Epoch 77/100\n",
            "14/14 [==============================] - 0s 17ms/step - loss: 2.4714e-05 - val_loss: 0.0068\n",
            "Epoch 78/100\n",
            "14/14 [==============================] - 0s 17ms/step - loss: 2.4961e-05 - val_loss: 0.0076\n",
            "Epoch 79/100\n",
            "14/14 [==============================] - 0s 18ms/step - loss: 2.5688e-05 - val_loss: 0.0078\n",
            "Epoch 80/100\n",
            "14/14 [==============================] - 0s 18ms/step - loss: 2.4817e-05 - val_loss: 0.0072\n",
            "Epoch 81/100\n",
            "14/14 [==============================] - 0s 18ms/step - loss: 2.3551e-05 - val_loss: 0.0066\n",
            "Epoch 82/100\n",
            "14/14 [==============================] - 0s 17ms/step - loss: 2.3142e-05 - val_loss: 0.0065\n",
            "Epoch 83/100\n",
            "14/14 [==============================] - 0s 18ms/step - loss: 2.4303e-05 - val_loss: 0.0080\n",
            "Epoch 84/100\n",
            "14/14 [==============================] - 0s 18ms/step - loss: 2.6834e-05 - val_loss: 0.0068\n",
            "Epoch 85/100\n",
            "14/14 [==============================] - 0s 17ms/step - loss: 2.4252e-05 - val_loss: 0.0067\n",
            "Epoch 86/100\n",
            "14/14 [==============================] - 0s 17ms/step - loss: 2.4434e-05 - val_loss: 0.0069\n",
            "Epoch 87/100\n",
            "14/14 [==============================] - 0s 18ms/step - loss: 2.3284e-05 - val_loss: 0.0069\n",
            "Epoch 88/100\n",
            "14/14 [==============================] - 0s 18ms/step - loss: 2.4654e-05 - val_loss: 0.0067\n",
            "Epoch 89/100\n",
            "14/14 [==============================] - 0s 17ms/step - loss: 2.2826e-05 - val_loss: 0.0068\n",
            "Epoch 90/100\n",
            "14/14 [==============================] - 0s 18ms/step - loss: 2.1904e-05 - val_loss: 0.0070\n",
            "Epoch 91/100\n",
            "14/14 [==============================] - 0s 18ms/step - loss: 2.2679e-05 - val_loss: 0.0068\n",
            "Epoch 92/100\n",
            "14/14 [==============================] - 0s 17ms/step - loss: 2.1908e-05 - val_loss: 0.0066\n",
            "Epoch 93/100\n",
            "14/14 [==============================] - 0s 17ms/step - loss: 2.1949e-05 - val_loss: 0.0069\n",
            "Epoch 94/100\n",
            "14/14 [==============================] - 0s 17ms/step - loss: 2.2271e-05 - val_loss: 0.0065\n",
            "Epoch 95/100\n",
            "14/14 [==============================] - 0s 18ms/step - loss: 2.3893e-05 - val_loss: 0.0063\n",
            "Epoch 96/100\n",
            "14/14 [==============================] - 0s 17ms/step - loss: 2.1640e-05 - val_loss: 0.0064\n",
            "Epoch 97/100\n",
            "14/14 [==============================] - 0s 17ms/step - loss: 2.4127e-05 - val_loss: 0.0060\n",
            "Epoch 98/100\n",
            "14/14 [==============================] - 0s 17ms/step - loss: 2.5697e-05 - val_loss: 0.0066\n",
            "Epoch 99/100\n",
            "14/14 [==============================] - 0s 18ms/step - loss: 2.1181e-05 - val_loss: 0.0060\n",
            "Epoch 100/100\n",
            "14/14 [==============================] - 0s 17ms/step - loss: 2.0415e-05 - val_loss: 0.0073\n"
          ],
          "name": "stdout"
        },
        {
          "output_type": "execute_result",
          "data": {
            "text/plain": [
              "<tensorflow.python.keras.callbacks.History at 0x7fc8681d9d30>"
            ]
          },
          "metadata": {
            "tags": []
          },
          "execution_count": 135
        }
      ]
    },
    {
      "cell_type": "code",
      "metadata": {
        "id": "H_ady-CUjek8",
        "colab_type": "code",
        "colab": {}
      },
      "source": [
        "### Lets Do the prediction and check performance metrics\n",
        "train_predict=model.predict(X_train)\n",
        "test_predict=model.predict(X_test)"
      ],
      "execution_count": 136,
      "outputs": []
    },
    {
      "cell_type": "code",
      "metadata": {
        "id": "Zi5v5hKaj2dp",
        "colab_type": "code",
        "colab": {}
      },
      "source": [
        "##Transformback to original form\n",
        "train_predict=scaler.inverse_transform(train_predict)\n",
        "test_predict=scaler.inverse_transform(test_predict)"
      ],
      "execution_count": 137,
      "outputs": []
    },
    {
      "cell_type": "code",
      "metadata": {
        "id": "JSvDWFSyj6RI",
        "colab_type": "code",
        "colab": {
          "base_uri": "https://localhost:8080/",
          "height": 34
        },
        "outputId": "8dcf2b5e-5cb0-489c-8b6c-be2a98afba5b"
      },
      "source": [
        "### Calculate RMSE performance metrics\n",
        "import math\n",
        "from sklearn.metrics import mean_squared_error\n",
        "math.sqrt(mean_squared_error(y_train,train_predict))"
      ],
      "execution_count": 138,
      "outputs": [
        {
          "output_type": "execute_result",
          "data": {
            "text/plain": [
              "284.6839008328911"
            ]
          },
          "metadata": {
            "tags": []
          },
          "execution_count": 138
        }
      ]
    },
    {
      "cell_type": "code",
      "metadata": {
        "id": "JpPH1CCEj-lB",
        "colab_type": "code",
        "colab": {
          "base_uri": "https://localhost:8080/",
          "height": 34
        },
        "outputId": "f9266344-c26a-48a8-fa1a-bea40ee31cd6"
      },
      "source": [
        "### Test Data RMSE\n",
        "math.sqrt(mean_squared_error(ytest,test_predict))"
      ],
      "execution_count": 139,
      "outputs": [
        {
          "output_type": "execute_result",
          "data": {
            "text/plain": [
              "616.2440038402603"
            ]
          },
          "metadata": {
            "tags": []
          },
          "execution_count": 139
        }
      ]
    },
    {
      "cell_type": "code",
      "metadata": {
        "id": "wLUn69QLkBfw",
        "colab_type": "code",
        "colab": {
          "base_uri": "https://localhost:8080/",
          "height": 265
        },
        "outputId": "857d8014-b1fa-446a-bd4b-2d167ba16f95"
      },
      "source": [
        "### Plotting \n",
        "# shift train predictions for plotting\n",
        "look_back=100\n",
        "trainPredictPlot = np.empty_like(df1)\n",
        "trainPredictPlot[:, :] = np.nan\n",
        "trainPredictPlot[look_back:len(train_predict)+look_back, :] = train_predict\n",
        "# shift test predictions for plotting\n",
        "testPredictPlot = np.empty_like(df1)\n",
        "testPredictPlot[:, :] = np.nan\n",
        "testPredictPlot[len(train_predict)+(look_back*2)+1:len(df1)-1, :] = test_predict\n",
        "# plot baseline and predictions\n",
        "plt.plot(scaler.inverse_transform(df1))\n",
        "plt.plot(trainPredictPlot)\n",
        "plt.plot(testPredictPlot)\n",
        "plt.show()"
      ],
      "execution_count": 140,
      "outputs": [
        {
          "output_type": "display_data",
          "data": {
            "image/png": "[encoded data removed]",
            "text/plain": [
              "<Figure size 432x288 with 1 Axes>"
            ]
          },
          "metadata": {
            "tags": [],
            "needs_background": "light"
          }
        }
      ]
    },
    {
      "cell_type": "code",
      "metadata": {
        "id": "hBJW7c24kGrN",
        "colab_type": "code",
        "colab": {
          "base_uri": "https://localhost:8080/",
          "height": 34
        },
        "outputId": "08011710-3f7a-4359-9b8f-82090092ffd5"
      },
      "source": [
        "len(test_data)"
      ],
      "execution_count": 141,
      "outputs": [
        {
          "output_type": "execute_result",
          "data": {
            "text/plain": [
              "440"
            ]
          },
          "metadata": {
            "tags": []
          },
          "execution_count": 141
        }
      ]
    },
    {
      "cell_type": "code",
      "metadata": {
        "id": "5JtgJbh_kWAP",
        "colab_type": "code",
        "colab": {
          "base_uri": "https://localhost:8080/",
          "height": 34
        },
        "outputId": "ed5dc008-145c-4b99-a0ef-cf0c9f32493f"
      },
      "source": [
        "\n",
        "x_input=test_data[340:].reshape(1,-1)\n",
        "x_input.shape"
      ],
      "execution_count": 142,
      "outputs": [
        {
          "output_type": "execute_result",
          "data": {
            "text/plain": [
              "(1, 100)"
            ]
          },
          "metadata": {
            "tags": []
          },
          "execution_count": 142
        }
      ]
    },
    {
      "cell_type": "code",
      "metadata": {
        "id": "x4rH0A8VkYcf",
        "colab_type": "code",
        "colab": {}
      },
      "source": [
        "temp_input=list(x_input)\n",
        "temp_input=temp_input[0].tolist()"
      ],
      "execution_count": 143,
      "outputs": []
    },
    {
      "cell_type": "code",
      "metadata": {
        "id": "7LqUKFAkkbDO",
        "colab_type": "code",
        "colab": {
          "base_uri": "https://localhost:8080/",
          "height": 1000
        },
        "outputId": "4606e4bc-90c0-417a-bd1b-f4e1793390bd"
      },
      "source": [
        "# demonstrate prediction for next 10 days\n",
        "from numpy import array\n",
        "\n",
        "lst_output=[]\n",
        "n_steps=100\n",
        "i=0\n",
        "while(i<30):\n",
        "    \n",
        "    if(len(temp_input)>100):\n",
        "        #print(temp_input)\n",
        "        x_input=np.array(temp_input[1:])\n",
        "        print(\"{} day input {}\".format(i,x_input))\n",
        "        x_input=x_input.reshape(1,-1)\n",
        "        x_input = x_input.reshape((1, n_steps, 1))\n",
        "        #print(x_input)\n",
        "        yhat = model.predict(x_input, verbose=0)\n",
        "        print(\"{} day output {}\".format(i,yhat))\n",
        "        temp_input.extend(yhat[0].tolist())\n",
        "        temp_input=temp_input[1:]\n",
        "        #print(temp_input)\n",
        "        lst_output.extend(yhat.tolist())\n",
        "        i=i+1\n",
        "    else:\n",
        "        x_input = x_input.reshape((1, n_steps,1))\n",
        "        yhat = model.predict(x_input, verbose=0)\n",
        "        print(yhat[0])\n",
        "        temp_input.extend(yhat[0].tolist())\n",
        "        print(len(temp_input))\n",
        "        lst_output.extend(yhat.tolist())\n",
        "        i=i+1\n",
        "    \n",
        "\n",
        "print(lst_output)"
      ],
      "execution_count": 144,
      "outputs": [
        {
          "output_type": "stream",
          "text": [
            "[0.11602801]\n",
            "101\n",
            "1 day input [0.26822842 0.27754549 0.31267541 0.29853275 0.31351547 0.30462321\n",
            " 0.26617122 0.29474769 0.2980984  0.30495733 0.30374496 0.32254138\n",
            " 0.31866086 0.31776352 0.30895718 0.31486149 0.31287588 0.31977777\n",
            " 0.31709529 0.32069897 0.32644577 0.32132902 0.32227886 0.322928\n",
            " 0.31604521 0.32997785 0.36009603 0.35220135 0.35286958 0.34400118\n",
            " 0.35415831 0.38483017 0.38041507 0.42069038 0.39577009 0.37784237\n",
            " 0.40439029 0.40020429 0.40481509 0.41062394 0.40916337 0.40602268\n",
            " 0.4095834  0.39004716 0.40204193 0.38951735 0.41319663 0.44682781\n",
            " 0.46583424 0.50832904 0.58609218 0.59481738 0.58337152 0.59692709\n",
            " 0.6687     0.64598488 0.65540695 0.66934914 0.64769364 0.64778911\n",
            " 0.71564332 0.68001699 0.69145808 0.65362659 0.60777154 0.66628959\n",
            " 0.63616664 0.64696336 0.64141703 0.61433931 0.64022854 0.64118315\n",
            " 0.64023808 0.64241461 0.62481624 0.60852092 0.58743342 0.67352559\n",
            " 0.70514252 0.71932337 0.80759207 0.83214961 0.82806384 0.88691601\n",
            " 0.90989843 0.89282032 0.89718292 0.95915192 1.         0.98790022\n",
            " 0.16927755 0.15817057 0.14495867 0.12568971 0.13109285 0.08903717\n",
            " 0.1062537  0.10866888 0.10932757 0.11602801]\n",
            "1 day output [[0.11216904]]\n",
            "2 day input [0.27754549 0.31267541 0.29853275 0.31351547 0.30462321 0.26617122\n",
            " 0.29474769 0.2980984  0.30495733 0.30374496 0.32254138 0.31866086\n",
            " 0.31776352 0.30895718 0.31486149 0.31287588 0.31977777 0.31709529\n",
            " 0.32069897 0.32644577 0.32132902 0.32227886 0.322928   0.31604521\n",
            " 0.32997785 0.36009603 0.35220135 0.35286958 0.34400118 0.35415831\n",
            " 0.38483017 0.38041507 0.42069038 0.39577009 0.37784237 0.40439029\n",
            " 0.40020429 0.40481509 0.41062394 0.40916337 0.40602268 0.4095834\n",
            " 0.39004716 0.40204193 0.38951735 0.41319663 0.44682781 0.46583424\n",
            " 0.50832904 0.58609218 0.59481738 0.58337152 0.59692709 0.6687\n",
            " 0.64598488 0.65540695 0.66934914 0.64769364 0.64778911 0.71564332\n",
            " 0.68001699 0.69145808 0.65362659 0.60777154 0.66628959 0.63616664\n",
            " 0.64696336 0.64141703 0.61433931 0.64022854 0.64118315 0.64023808\n",
            " 0.64241461 0.62481624 0.60852092 0.58743342 0.67352559 0.70514252\n",
            " 0.71932337 0.80759207 0.83214961 0.82806384 0.88691601 0.90989843\n",
            " 0.89282032 0.89718292 0.95915192 1.         0.98790022 0.16927755\n",
            " 0.15817057 0.14495867 0.12568971 0.13109285 0.08903717 0.1062537\n",
            " 0.10866888 0.10932757 0.11602801 0.11216904]\n",
            "2 day output [[0.10811688]]\n",
            "3 day input [0.31267541 0.29853275 0.31351547 0.30462321 0.26617122 0.29474769\n",
            " 0.2980984  0.30495733 0.30374496 0.32254138 0.31866086 0.31776352\n",
            " 0.30895718 0.31486149 0.31287588 0.31977777 0.31709529 0.32069897\n",
            " 0.32644577 0.32132902 0.32227886 0.322928   0.31604521 0.32997785\n",
            " 0.36009603 0.35220135 0.35286958 0.34400118 0.35415831 0.38483017\n",
            " 0.38041507 0.42069038 0.39577009 0.37784237 0.40439029 0.40020429\n",
            " 0.40481509 0.41062394 0.40916337 0.40602268 0.4095834  0.39004716\n",
            " 0.40204193 0.38951735 0.41319663 0.44682781 0.46583424 0.50832904\n",
            " 0.58609218 0.59481738 0.58337152 0.59692709 0.6687     0.64598488\n",
            " 0.65540695 0.66934914 0.64769364 0.64778911 0.71564332 0.68001699\n",
            " 0.69145808 0.65362659 0.60777154 0.66628959 0.63616664 0.64696336\n",
            " 0.64141703 0.61433931 0.64022854 0.64118315 0.64023808 0.64241461\n",
            " 0.62481624 0.60852092 0.58743342 0.67352559 0.70514252 0.71932337\n",
            " 0.80759207 0.83214961 0.82806384 0.88691601 0.90989843 0.89282032\n",
            " 0.89718292 0.95915192 1.         0.98790022 0.16927755 0.15817057\n",
            " 0.14495867 0.12568971 0.13109285 0.08903717 0.1062537  0.10866888\n",
            " 0.10932757 0.11602801 0.11216904 0.10811688]\n",
            "3 day output [[0.10296168]]\n",
            "4 day input [0.29853275 0.31351547 0.30462321 0.26617122 0.29474769 0.2980984\n",
            " 0.30495733 0.30374496 0.32254138 0.31866086 0.31776352 0.30895718\n",
            " 0.31486149 0.31287588 0.31977777 0.31709529 0.32069897 0.32644577\n",
            " 0.32132902 0.32227886 0.322928   0.31604521 0.32997785 0.36009603\n",
            " 0.35220135 0.35286958 0.34400118 0.35415831 0.38483017 0.38041507\n",
            " 0.42069038 0.39577009 0.37784237 0.40439029 0.40020429 0.40481509\n",
            " 0.41062394 0.40916337 0.40602268 0.4095834  0.39004716 0.40204193\n",
            " 0.38951735 0.41319663 0.44682781 0.46583424 0.50832904 0.58609218\n",
            " 0.59481738 0.58337152 0.59692709 0.6687     0.64598488 0.65540695\n",
            " 0.66934914 0.64769364 0.64778911 0.71564332 0.68001699 0.69145808\n",
            " 0.65362659 0.60777154 0.66628959 0.63616664 0.64696336 0.64141703\n",
            " 0.61433931 0.64022854 0.64118315 0.64023808 0.64241461 0.62481624\n",
            " 0.60852092 0.58743342 0.67352559 0.70514252 0.71932337 0.80759207\n",
            " 0.83214961 0.82806384 0.88691601 0.90989843 0.89282032 0.89718292\n",
            " 0.95915192 1.         0.98790022 0.16927755 0.15817057 0.14495867\n",
            " 0.12568971 0.13109285 0.08903717 0.1062537  0.10866888 0.10932757\n",
            " 0.11602801 0.11216904 0.10811688 0.10296168]\n",
            "4 day output [[0.09726443]]\n",
            "5 day input [0.31351547 0.30462321 0.26617122 0.29474769 0.2980984  0.30495733\n",
            " 0.30374496 0.32254138 0.31866086 0.31776352 0.30895718 0.31486149\n",
            " 0.31287588 0.31977777 0.31709529 0.32069897 0.32644577 0.32132902\n",
            " 0.32227886 0.322928   0.31604521 0.32997785 0.36009603 0.35220135\n",
            " 0.35286958 0.34400118 0.35415831 0.38483017 0.38041507 0.42069038\n",
            " 0.39577009 0.37784237 0.40439029 0.40020429 0.40481509 0.41062394\n",
            " 0.40916337 0.40602268 0.4095834  0.39004716 0.40204193 0.38951735\n",
            " 0.41319663 0.44682781 0.46583424 0.50832904 0.58609218 0.59481738\n",
            " 0.58337152 0.59692709 0.6687     0.64598488 0.65540695 0.66934914\n",
            " 0.64769364 0.64778911 0.71564332 0.68001699 0.69145808 0.65362659\n",
            " 0.60777154 0.66628959 0.63616664 0.64696336 0.64141703 0.61433931\n",
            " 0.64022854 0.64118315 0.64023808 0.64241461 0.62481624 0.60852092\n",
            " 0.58743342 0.67352559 0.70514252 0.71932337 0.80759207 0.83214961\n",
            " 0.82806384 0.88691601 0.90989843 0.89282032 0.89718292 0.95915192\n",
            " 1.         0.98790022 0.16927755 0.15817057 0.14495867 0.12568971\n",
            " 0.13109285 0.08903717 0.1062537  0.10866888 0.10932757 0.11602801\n",
            " 0.11216904 0.10811688 0.10296168 0.09726443]\n",
            "5 day output [[0.09199928]]\n",
            "6 day input [0.30462321 0.26617122 0.29474769 0.2980984  0.30495733 0.30374496\n",
            " 0.32254138 0.31866086 0.31776352 0.30895718 0.31486149 0.31287588\n",
            " 0.31977777 0.31709529 0.32069897 0.32644577 0.32132902 0.32227886\n",
            " 0.322928   0.31604521 0.32997785 0.36009603 0.35220135 0.35286958\n",
            " 0.34400118 0.35415831 0.38483017 0.38041507 0.42069038 0.39577009\n",
            " 0.37784237 0.40439029 0.40020429 0.40481509 0.41062394 0.40916337\n",
            " 0.40602268 0.4095834  0.39004716 0.40204193 0.38951735 0.41319663\n",
            " 0.44682781 0.46583424 0.50832904 0.58609218 0.59481738 0.58337152\n",
            " 0.59692709 0.6687     0.64598488 0.65540695 0.66934914 0.64769364\n",
            " 0.64778911 0.71564332 0.68001699 0.69145808 0.65362659 0.60777154\n",
            " 0.66628959 0.63616664 0.64696336 0.64141703 0.61433931 0.64022854\n",
            " 0.64118315 0.64023808 0.64241461 0.62481624 0.60852092 0.58743342\n",
            " 0.67352559 0.70514252 0.71932337 0.80759207 0.83214961 0.82806384\n",
            " 0.88691601 0.90989843 0.89282032 0.89718292 0.95915192 1.\n",
            " 0.98790022 0.16927755 0.15817057 0.14495867 0.12568971 0.13109285\n",
            " 0.08903717 0.1062537  0.10866888 0.10932757 0.11602801 0.11216904\n",
            " 0.10811688 0.10296168 0.09726443 0.09199928]\n",
            "6 day output [[0.08797093]]\n",
            "7 day input [0.26617122 0.29474769 0.2980984  0.30495733 0.30374496 0.32254138\n",
            " 0.31866086 0.31776352 0.30895718 0.31486149 0.31287588 0.31977777\n",
            " 0.31709529 0.32069897 0.32644577 0.32132902 0.32227886 0.322928\n",
            " 0.31604521 0.32997785 0.36009603 0.35220135 0.35286958 0.34400118\n",
            " 0.35415831 0.38483017 0.38041507 0.42069038 0.39577009 0.37784237\n",
            " 0.40439029 0.40020429 0.40481509 0.41062394 0.40916337 0.40602268\n",
            " 0.4095834  0.39004716 0.40204193 0.38951735 0.41319663 0.44682781\n",
            " 0.46583424 0.50832904 0.58609218 0.59481738 0.58337152 0.59692709\n",
            " 0.6687     0.64598488 0.65540695 0.66934914 0.64769364 0.64778911\n",
            " 0.71564332 0.68001699 0.69145808 0.65362659 0.60777154 0.66628959\n",
            " 0.63616664 0.64696336 0.64141703 0.61433931 0.64022854 0.64118315\n",
            " 0.64023808 0.64241461 0.62481624 0.60852092 0.58743342 0.67352559\n",
            " 0.70514252 0.71932337 0.80759207 0.83214961 0.82806384 0.88691601\n",
            " 0.90989843 0.89282032 0.89718292 0.95915192 1.         0.98790022\n",
            " 0.16927755 0.15817057 0.14495867 0.12568971 0.13109285 0.08903717\n",
            " 0.1062537  0.10866888 0.10932757 0.11602801 0.11216904 0.10811688\n",
            " 0.10296168 0.09726443 0.09199928 0.08797093]\n",
            "7 day output [[0.08565264]]\n",
            "8 day input [0.29474769 0.2980984  0.30495733 0.30374496 0.32254138 0.31866086\n",
            " 0.31776352 0.30895718 0.31486149 0.31287588 0.31977777 0.31709529\n",
            " 0.32069897 0.32644577 0.32132902 0.32227886 0.322928   0.31604521\n",
            " 0.32997785 0.36009603 0.35220135 0.35286958 0.34400118 0.35415831\n",
            " 0.38483017 0.38041507 0.42069038 0.39577009 0.37784237 0.40439029\n",
            " 0.40020429 0.40481509 0.41062394 0.40916337 0.40602268 0.4095834\n",
            " 0.39004716 0.40204193 0.38951735 0.41319663 0.44682781 0.46583424\n",
            " 0.50832904 0.58609218 0.59481738 0.58337152 0.59692709 0.6687\n",
            " 0.64598488 0.65540695 0.66934914 0.64769364 0.64778911 0.71564332\n",
            " 0.68001699 0.69145808 0.65362659 0.60777154 0.66628959 0.63616664\n",
            " 0.64696336 0.64141703 0.61433931 0.64022854 0.64118315 0.64023808\n",
            " 0.64241461 0.62481624 0.60852092 0.58743342 0.67352559 0.70514252\n",
            " 0.71932337 0.80759207 0.83214961 0.82806384 0.88691601 0.90989843\n",
            " 0.89282032 0.89718292 0.95915192 1.         0.98790022 0.16927755\n",
            " 0.15817057 0.14495867 0.12568971 0.13109285 0.08903717 0.1062537\n",
            " 0.10866888 0.10932757 0.11602801 0.11216904 0.10811688 0.10296168\n",
            " 0.09726443 0.09199928 0.08797093 0.08565264]\n",
            "8 day output [[0.08519619]]\n",
            "9 day input [0.2980984  0.30495733 0.30374496 0.32254138 0.31866086 0.31776352\n",
            " 0.30895718 0.31486149 0.31287588 0.31977777 0.31709529 0.32069897\n",
            " 0.32644577 0.32132902 0.32227886 0.322928   0.31604521 0.32997785\n",
            " 0.36009603 0.35220135 0.35286958 0.34400118 0.35415831 0.38483017\n",
            " 0.38041507 0.42069038 0.39577009 0.37784237 0.40439029 0.40020429\n",
            " 0.40481509 0.41062394 0.40916337 0.40602268 0.4095834  0.39004716\n",
            " 0.40204193 0.38951735 0.41319663 0.44682781 0.46583424 0.50832904\n",
            " 0.58609218 0.59481738 0.58337152 0.59692709 0.6687     0.64598488\n",
            " 0.65540695 0.66934914 0.64769364 0.64778911 0.71564332 0.68001699\n",
            " 0.69145808 0.65362659 0.60777154 0.66628959 0.63616664 0.64696336\n",
            " 0.64141703 0.61433931 0.64022854 0.64118315 0.64023808 0.64241461\n",
            " 0.62481624 0.60852092 0.58743342 0.67352559 0.70514252 0.71932337\n",
            " 0.80759207 0.83214961 0.82806384 0.88691601 0.90989843 0.89282032\n",
            " 0.89718292 0.95915192 1.         0.98790022 0.16927755 0.15817057\n",
            " 0.14495867 0.12568971 0.13109285 0.08903717 0.1062537  0.10866888\n",
            " 0.10932757 0.11602801 0.11216904 0.10811688 0.10296168 0.09726443\n",
            " 0.09199928 0.08797093 0.08565264 0.08519619]\n",
            "9 day output [[0.08649538]]\n",
            "10 day input [0.30495733 0.30374496 0.32254138 0.31866086 0.31776352 0.30895718\n",
            " 0.31486149 0.31287588 0.31977777 0.31709529 0.32069897 0.32644577\n",
            " 0.32132902 0.32227886 0.322928   0.31604521 0.32997785 0.36009603\n",
            " 0.35220135 0.35286958 0.34400118 0.35415831 0.38483017 0.38041507\n",
            " 0.42069038 0.39577009 0.37784237 0.40439029 0.40020429 0.40481509\n",
            " 0.41062394 0.40916337 0.40602268 0.4095834  0.39004716 0.40204193\n",
            " 0.38951735 0.41319663 0.44682781 0.46583424 0.50832904 0.58609218\n",
            " 0.59481738 0.58337152 0.59692709 0.6687     0.64598488 0.65540695\n",
            " 0.66934914 0.64769364 0.64778911 0.71564332 0.68001699 0.69145808\n",
            " 0.65362659 0.60777154 0.66628959 0.63616664 0.64696336 0.64141703\n",
            " 0.61433931 0.64022854 0.64118315 0.64023808 0.64241461 0.62481624\n",
            " 0.60852092 0.58743342 0.67352559 0.70514252 0.71932337 0.80759207\n",
            " 0.83214961 0.82806384 0.88691601 0.90989843 0.89282032 0.89718292\n",
            " 0.95915192 1.         0.98790022 0.16927755 0.15817057 0.14495867\n",
            " 0.12568971 0.13109285 0.08903717 0.1062537  0.10866888 0.10932757\n",
            " 0.11602801 0.11216904 0.10811688 0.10296168 0.09726443 0.09199928\n",
            " 0.08797093 0.08565264 0.08519619 0.08649538]\n",
            "10 day output [[0.08926393]]\n",
            "11 day input [0.30374496 0.32254138 0.31866086 0.31776352 0.30895718 0.31486149\n",
            " 0.31287588 0.31977777 0.31709529 0.32069897 0.32644577 0.32132902\n",
            " 0.32227886 0.322928   0.31604521 0.32997785 0.36009603 0.35220135\n",
            " 0.35286958 0.34400118 0.35415831 0.38483017 0.38041507 0.42069038\n",
            " 0.39577009 0.37784237 0.40439029 0.40020429 0.40481509 0.41062394\n",
            " 0.40916337 0.40602268 0.4095834  0.39004716 0.40204193 0.38951735\n",
            " 0.41319663 0.44682781 0.46583424 0.50832904 0.58609218 0.59481738\n",
            " 0.58337152 0.59692709 0.6687     0.64598488 0.65540695 0.66934914\n",
            " 0.64769364 0.64778911 0.71564332 0.68001699 0.69145808 0.65362659\n",
            " 0.60777154 0.66628959 0.63616664 0.64696336 0.64141703 0.61433931\n",
            " 0.64022854 0.64118315 0.64023808 0.64241461 0.62481624 0.60852092\n",
            " 0.58743342 0.67352559 0.70514252 0.71932337 0.80759207 0.83214961\n",
            " 0.82806384 0.88691601 0.90989843 0.89282032 0.89718292 0.95915192\n",
            " 1.         0.98790022 0.16927755 0.15817057 0.14495867 0.12568971\n",
            " 0.13109285 0.08903717 0.1062537  0.10866888 0.10932757 0.11602801\n",
            " 0.11216904 0.10811688 0.10296168 0.09726443 0.09199928 0.08797093\n",
            " 0.08565264 0.08519619 0.08649538 0.08926393]\n",
            "11 day output [[0.09311211]]\n",
            "12 day input [0.32254138 0.31866086 0.31776352 0.30895718 0.31486149 0.31287588\n",
            " 0.31977777 0.31709529 0.32069897 0.32644577 0.32132902 0.32227886\n",
            " 0.322928   0.31604521 0.32997785 0.36009603 0.35220135 0.35286958\n",
            " 0.34400118 0.35415831 0.38483017 0.38041507 0.42069038 0.39577009\n",
            " 0.37784237 0.40439029 0.40020429 0.40481509 0.41062394 0.40916337\n",
            " 0.40602268 0.4095834  0.39004716 0.40204193 0.38951735 0.41319663\n",
            " 0.44682781 0.46583424 0.50832904 0.58609218 0.59481738 0.58337152\n",
            " 0.59692709 0.6687     0.64598488 0.65540695 0.66934914 0.64769364\n",
            " 0.64778911 0.71564332 0.68001699 0.69145808 0.65362659 0.60777154\n",
            " 0.66628959 0.63616664 0.64696336 0.64141703 0.61433931 0.64022854\n",
            " 0.64118315 0.64023808 0.64241461 0.62481624 0.60852092 0.58743342\n",
            " 0.67352559 0.70514252 0.71932337 0.80759207 0.83214961 0.82806384\n",
            " 0.88691601 0.90989843 0.89282032 0.89718292 0.95915192 1.\n",
            " 0.98790022 0.16927755 0.15817057 0.14495867 0.12568971 0.13109285\n",
            " 0.08903717 0.1062537  0.10866888 0.10932757 0.11602801 0.11216904\n",
            " 0.10811688 0.10296168 0.09726443 0.09199928 0.08797093 0.08565264\n",
            " 0.08519619 0.08649538 0.08926393 0.09311211]\n",
            "12 day output [[0.09761359]]\n",
            "13 day input [0.31866086 0.31776352 0.30895718 0.31486149 0.31287588 0.31977777\n",
            " 0.31709529 0.32069897 0.32644577 0.32132902 0.32227886 0.322928\n",
            " 0.31604521 0.32997785 0.36009603 0.35220135 0.35286958 0.34400118\n",
            " 0.35415831 0.38483017 0.38041507 0.42069038 0.39577009 0.37784237\n",
            " 0.40439029 0.40020429 0.40481509 0.41062394 0.40916337 0.40602268\n",
            " 0.4095834  0.39004716 0.40204193 0.38951735 0.41319663 0.44682781\n",
            " 0.46583424 0.50832904 0.58609218 0.59481738 0.58337152 0.59692709\n",
            " 0.6687     0.64598488 0.65540695 0.66934914 0.64769364 0.64778911\n",
            " 0.71564332 0.68001699 0.69145808 0.65362659 0.60777154 0.66628959\n",
            " 0.63616664 0.64696336 0.64141703 0.61433931 0.64022854 0.64118315\n",
            " 0.64023808 0.64241461 0.62481624 0.60852092 0.58743342 0.67352559\n",
            " 0.70514252 0.71932337 0.80759207 0.83214961 0.82806384 0.88691601\n",
            " 0.90989843 0.89282032 0.89718292 0.95915192 1.         0.98790022\n",
            " 0.16927755 0.15817057 0.14495867 0.12568971 0.13109285 0.08903717\n",
            " 0.1062537  0.10866888 0.10932757 0.11602801 0.11216904 0.10811688\n",
            " 0.10296168 0.09726443 0.09199928 0.08797093 0.08565264 0.08519619\n",
            " 0.08649538 0.08926393 0.09311211 0.09761359]\n",
            "13 day output [[0.10235767]]\n",
            "14 day input [0.31776352 0.30895718 0.31486149 0.31287588 0.31977777 0.31709529\n",
            " 0.32069897 0.32644577 0.32132902 0.32227886 0.322928   0.31604521\n",
            " 0.32997785 0.36009603 0.35220135 0.35286958 0.34400118 0.35415831\n",
            " 0.38483017 0.38041507 0.42069038 0.39577009 0.37784237 0.40439029\n",
            " 0.40020429 0.40481509 0.41062394 0.40916337 0.40602268 0.4095834\n",
            " 0.39004716 0.40204193 0.38951735 0.41319663 0.44682781 0.46583424\n",
            " 0.50832904 0.58609218 0.59481738 0.58337152 0.59692709 0.6687\n",
            " 0.64598488 0.65540695 0.66934914 0.64769364 0.64778911 0.71564332\n",
            " 0.68001699 0.69145808 0.65362659 0.60777154 0.66628959 0.63616664\n",
            " 0.64696336 0.64141703 0.61433931 0.64022854 0.64118315 0.64023808\n",
            " 0.64241461 0.62481624 0.60852092 0.58743342 0.67352559 0.70514252\n",
            " 0.71932337 0.80759207 0.83214961 0.82806384 0.88691601 0.90989843\n",
            " 0.89282032 0.89718292 0.95915192 1.         0.98790022 0.16927755\n",
            " 0.15817057 0.14495867 0.12568971 0.13109285 0.08903717 0.1062537\n",
            " 0.10866888 0.10932757 0.11602801 0.11216904 0.10811688 0.10296168\n",
            " 0.09726443 0.09199928 0.08797093 0.08565264 0.08519619 0.08649538\n",
            " 0.08926393 0.09311211 0.09761359 0.10235767]\n",
            "14 day output [[0.10698564]]\n",
            "15 day input [0.30895718 0.31486149 0.31287588 0.31977777 0.31709529 0.32069897\n",
            " 0.32644577 0.32132902 0.32227886 0.322928   0.31604521 0.32997785\n",
            " 0.36009603 0.35220135 0.35286958 0.34400118 0.35415831 0.38483017\n",
            " 0.38041507 0.42069038 0.39577009 0.37784237 0.40439029 0.40020429\n",
            " 0.40481509 0.41062394 0.40916337 0.40602268 0.4095834  0.39004716\n",
            " 0.40204193 0.38951735 0.41319663 0.44682781 0.46583424 0.50832904\n",
            " 0.58609218 0.59481738 0.58337152 0.59692709 0.6687     0.64598488\n",
            " 0.65540695 0.66934914 0.64769364 0.64778911 0.71564332 0.68001699\n",
            " 0.69145808 0.65362659 0.60777154 0.66628959 0.63616664 0.64696336\n",
            " 0.64141703 0.61433931 0.64022854 0.64118315 0.64023808 0.64241461\n",
            " 0.62481624 0.60852092 0.58743342 0.67352559 0.70514252 0.71932337\n",
            " 0.80759207 0.83214961 0.82806384 0.88691601 0.90989843 0.89282032\n",
            " 0.89718292 0.95915192 1.         0.98790022 0.16927755 0.15817057\n",
            " 0.14495867 0.12568971 0.13109285 0.08903717 0.1062537  0.10866888\n",
            " 0.10932757 0.11602801 0.11216904 0.10811688 0.10296168 0.09726443\n",
            " 0.09199928 0.08797093 0.08565264 0.08519619 0.08649538 0.08926393\n",
            " 0.09311211 0.09761359 0.10235767 0.10698564]\n",
            "15 day output [[0.11121226]]\n",
            "16 day input [0.31486149 0.31287588 0.31977777 0.31709529 0.32069897 0.32644577\n",
            " 0.32132902 0.32227886 0.322928   0.31604521 0.32997785 0.36009603\n",
            " 0.35220135 0.35286958 0.34400118 0.35415831 0.38483017 0.38041507\n",
            " 0.42069038 0.39577009 0.37784237 0.40439029 0.40020429 0.40481509\n",
            " 0.41062394 0.40916337 0.40602268 0.4095834  0.39004716 0.40204193\n",
            " 0.38951735 0.41319663 0.44682781 0.46583424 0.50832904 0.58609218\n",
            " 0.59481738 0.58337152 0.59692709 0.6687     0.64598488 0.65540695\n",
            " 0.66934914 0.64769364 0.64778911 0.71564332 0.68001699 0.69145808\n",
            " 0.65362659 0.60777154 0.66628959 0.63616664 0.64696336 0.64141703\n",
            " 0.61433931 0.64022854 0.64118315 0.64023808 0.64241461 0.62481624\n",
            " 0.60852092 0.58743342 0.67352559 0.70514252 0.71932337 0.80759207\n",
            " 0.83214961 0.82806384 0.88691601 0.90989843 0.89282032 0.89718292\n",
            " 0.95915192 1.         0.98790022 0.16927755 0.15817057 0.14495867\n",
            " 0.12568971 0.13109285 0.08903717 0.1062537  0.10866888 0.10932757\n",
            " 0.11602801 0.11216904 0.10811688 0.10296168 0.09726443 0.09199928\n",
            " 0.08797093 0.08565264 0.08519619 0.08649538 0.08926393 0.09311211\n",
            " 0.09761359 0.10235767 0.10698564 0.11121226]\n",
            "16 day output [[0.11483432]]\n",
            "17 day input [0.31287588 0.31977777 0.31709529 0.32069897 0.32644577 0.32132902\n",
            " 0.32227886 0.322928   0.31604521 0.32997785 0.36009603 0.35220135\n",
            " 0.35286958 0.34400118 0.35415831 0.38483017 0.38041507 0.42069038\n",
            " 0.39577009 0.37784237 0.40439029 0.40020429 0.40481509 0.41062394\n",
            " 0.40916337 0.40602268 0.4095834  0.39004716 0.40204193 0.38951735\n",
            " 0.41319663 0.44682781 0.46583424 0.50832904 0.58609218 0.59481738\n",
            " 0.58337152 0.59692709 0.6687     0.64598488 0.65540695 0.66934914\n",
            " 0.64769364 0.64778911 0.71564332 0.68001699 0.69145808 0.65362659\n",
            " 0.60777154 0.66628959 0.63616664 0.64696336 0.64141703 0.61433931\n",
            " 0.64022854 0.64118315 0.64023808 0.64241461 0.62481624 0.60852092\n",
            " 0.58743342 0.67352559 0.70514252 0.71932337 0.80759207 0.83214961\n",
            " 0.82806384 0.88691601 0.90989843 0.89282032 0.89718292 0.95915192\n",
            " 1.         0.98790022 0.16927755 0.15817057 0.14495867 0.12568971\n",
            " 0.13109285 0.08903717 0.1062537  0.10866888 0.10932757 0.11602801\n",
            " 0.11216904 0.10811688 0.10296168 0.09726443 0.09199928 0.08797093\n",
            " 0.08565264 0.08519619 0.08649538 0.08926393 0.09311211 0.09761359\n",
            " 0.10235767 0.10698564 0.11121226 0.11483432]\n",
            "17 day output [[0.11772922]]\n",
            "18 day input [0.31977777 0.31709529 0.32069897 0.32644577 0.32132902 0.32227886\n",
            " 0.322928   0.31604521 0.32997785 0.36009603 0.35220135 0.35286958\n",
            " 0.34400118 0.35415831 0.38483017 0.38041507 0.42069038 0.39577009\n",
            " 0.37784237 0.40439029 0.40020429 0.40481509 0.41062394 0.40916337\n",
            " 0.40602268 0.4095834  0.39004716 0.40204193 0.38951735 0.41319663\n",
            " 0.44682781 0.46583424 0.50832904 0.58609218 0.59481738 0.58337152\n",
            " 0.59692709 0.6687     0.64598488 0.65540695 0.66934914 0.64769364\n",
            " 0.64778911 0.71564332 0.68001699 0.69145808 0.65362659 0.60777154\n",
            " 0.66628959 0.63616664 0.64696336 0.64141703 0.61433931 0.64022854\n",
            " 0.64118315 0.64023808 0.64241461 0.62481624 0.60852092 0.58743342\n",
            " 0.67352559 0.70514252 0.71932337 0.80759207 0.83214961 0.82806384\n",
            " 0.88691601 0.90989843 0.89282032 0.89718292 0.95915192 1.\n",
            " 0.98790022 0.16927755 0.15817057 0.14495867 0.12568971 0.13109285\n",
            " 0.08903717 0.1062537  0.10866888 0.10932757 0.11602801 0.11216904\n",
            " 0.10811688 0.10296168 0.09726443 0.09199928 0.08797093 0.08565264\n",
            " 0.08519619 0.08649538 0.08926393 0.09311211 0.09761359 0.10235767\n",
            " 0.10698564 0.11121226 0.11483432 0.11772922]\n",
            "18 day output [[0.11984582]]\n",
            "19 day input [0.31709529 0.32069897 0.32644577 0.32132902 0.32227886 0.322928\n",
            " 0.31604521 0.32997785 0.36009603 0.35220135 0.35286958 0.34400118\n",
            " 0.35415831 0.38483017 0.38041507 0.42069038 0.39577009 0.37784237\n",
            " 0.40439029 0.40020429 0.40481509 0.41062394 0.40916337 0.40602268\n",
            " 0.4095834  0.39004716 0.40204193 0.38951735 0.41319663 0.44682781\n",
            " 0.46583424 0.50832904 0.58609218 0.59481738 0.58337152 0.59692709\n",
            " 0.6687     0.64598488 0.65540695 0.66934914 0.64769364 0.64778911\n",
            " 0.71564332 0.68001699 0.69145808 0.65362659 0.60777154 0.66628959\n",
            " 0.63616664 0.64696336 0.64141703 0.61433931 0.64022854 0.64118315\n",
            " 0.64023808 0.64241461 0.62481624 0.60852092 0.58743342 0.67352559\n",
            " 0.70514252 0.71932337 0.80759207 0.83214961 0.82806384 0.88691601\n",
            " 0.90989843 0.89282032 0.89718292 0.95915192 1.         0.98790022\n",
            " 0.16927755 0.15817057 0.14495867 0.12568971 0.13109285 0.08903717\n",
            " 0.1062537  0.10866888 0.10932757 0.11602801 0.11216904 0.10811688\n",
            " 0.10296168 0.09726443 0.09199928 0.08797093 0.08565264 0.08519619\n",
            " 0.08649538 0.08926393 0.09311211 0.09761359 0.10235767 0.10698564\n",
            " 0.11121226 0.11483432 0.11772922 0.11984582]\n",
            "19 day output [[0.12119117]]\n",
            "20 day input [0.32069897 0.32644577 0.32132902 0.32227886 0.322928   0.31604521\n",
            " 0.32997785 0.36009603 0.35220135 0.35286958 0.34400118 0.35415831\n",
            " 0.38483017 0.38041507 0.42069038 0.39577009 0.37784237 0.40439029\n",
            " 0.40020429 0.40481509 0.41062394 0.40916337 0.40602268 0.4095834\n",
            " 0.39004716 0.40204193 0.38951735 0.41319663 0.44682781 0.46583424\n",
            " 0.50832904 0.58609218 0.59481738 0.58337152 0.59692709 0.6687\n",
            " 0.64598488 0.65540695 0.66934914 0.64769364 0.64778911 0.71564332\n",
            " 0.68001699 0.69145808 0.65362659 0.60777154 0.66628959 0.63616664\n",
            " 0.64696336 0.64141703 0.61433931 0.64022854 0.64118315 0.64023808\n",
            " 0.64241461 0.62481624 0.60852092 0.58743342 0.67352559 0.70514252\n",
            " 0.71932337 0.80759207 0.83214961 0.82806384 0.88691601 0.90989843\n",
            " 0.89282032 0.89718292 0.95915192 1.         0.98790022 0.16927755\n",
            " 0.15817057 0.14495867 0.12568971 0.13109285 0.08903717 0.1062537\n",
            " 0.10866888 0.10932757 0.11602801 0.11216904 0.10811688 0.10296168\n",
            " 0.09726443 0.09199928 0.08797093 0.08565264 0.08519619 0.08649538\n",
            " 0.08926393 0.09311211 0.09761359 0.10235767 0.10698564 0.11121226\n",
            " 0.11483432 0.11772922 0.11984582 0.12119117]\n",
            "20 day output [[0.12181495]]\n",
            "21 day input [0.32644577 0.32132902 0.32227886 0.322928   0.31604521 0.32997785\n",
            " 0.36009603 0.35220135 0.35286958 0.34400118 0.35415831 0.38483017\n",
            " 0.38041507 0.42069038 0.39577009 0.37784237 0.40439029 0.40020429\n",
            " 0.40481509 0.41062394 0.40916337 0.40602268 0.4095834  0.39004716\n",
            " 0.40204193 0.38951735 0.41319663 0.44682781 0.46583424 0.50832904\n",
            " 0.58609218 0.59481738 0.58337152 0.59692709 0.6687     0.64598488\n",
            " 0.65540695 0.66934914 0.64769364 0.64778911 0.71564332 0.68001699\n",
            " 0.69145808 0.65362659 0.60777154 0.66628959 0.63616664 0.64696336\n",
            " 0.64141703 0.61433931 0.64022854 0.64118315 0.64023808 0.64241461\n",
            " 0.62481624 0.60852092 0.58743342 0.67352559 0.70514252 0.71932337\n",
            " 0.80759207 0.83214961 0.82806384 0.88691601 0.90989843 0.89282032\n",
            " 0.89718292 0.95915192 1.         0.98790022 0.16927755 0.15817057\n",
            " 0.14495867 0.12568971 0.13109285 0.08903717 0.1062537  0.10866888\n",
            " 0.10932757 0.11602801 0.11216904 0.10811688 0.10296168 0.09726443\n",
            " 0.09199928 0.08797093 0.08565264 0.08519619 0.08649538 0.08926393\n",
            " 0.09311211 0.09761359 0.10235767 0.10698564 0.11121226 0.11483432\n",
            " 0.11772922 0.11984582 0.12119117 0.12181495]\n",
            "21 day output [[0.12179422]]\n",
            "22 day input [0.32132902 0.32227886 0.322928   0.31604521 0.32997785 0.36009603\n",
            " 0.35220135 0.35286958 0.34400118 0.35415831 0.38483017 0.38041507\n",
            " 0.42069038 0.39577009 0.37784237 0.40439029 0.40020429 0.40481509\n",
            " 0.41062394 0.40916337 0.40602268 0.4095834  0.39004716 0.40204193\n",
            " 0.38951735 0.41319663 0.44682781 0.46583424 0.50832904 0.58609218\n",
            " 0.59481738 0.58337152 0.59692709 0.6687     0.64598488 0.65540695\n",
            " 0.66934914 0.64769364 0.64778911 0.71564332 0.68001699 0.69145808\n",
            " 0.65362659 0.60777154 0.66628959 0.63616664 0.64696336 0.64141703\n",
            " 0.61433931 0.64022854 0.64118315 0.64023808 0.64241461 0.62481624\n",
            " 0.60852092 0.58743342 0.67352559 0.70514252 0.71932337 0.80759207\n",
            " 0.83214961 0.82806384 0.88691601 0.90989843 0.89282032 0.89718292\n",
            " 0.95915192 1.         0.98790022 0.16927755 0.15817057 0.14495867\n",
            " 0.12568971 0.13109285 0.08903717 0.1062537  0.10866888 0.10932757\n",
            " 0.11602801 0.11216904 0.10811688 0.10296168 0.09726443 0.09199928\n",
            " 0.08797093 0.08565264 0.08519619 0.08649538 0.08926393 0.09311211\n",
            " 0.09761359 0.10235767 0.10698564 0.11121226 0.11483432 0.11772922\n",
            " 0.11984582 0.12119117 0.12181495 0.12179422]\n",
            "22 day output [[0.12121981]]\n",
            "23 day input [0.32227886 0.322928   0.31604521 0.32997785 0.36009603 0.35220135\n",
            " 0.35286958 0.34400118 0.35415831 0.38483017 0.38041507 0.42069038\n",
            " 0.39577009 0.37784237 0.40439029 0.40020429 0.40481509 0.41062394\n",
            " 0.40916337 0.40602268 0.4095834  0.39004716 0.40204193 0.38951735\n",
            " 0.41319663 0.44682781 0.46583424 0.50832904 0.58609218 0.59481738\n",
            " 0.58337152 0.59692709 0.6687     0.64598488 0.65540695 0.66934914\n",
            " 0.64769364 0.64778911 0.71564332 0.68001699 0.69145808 0.65362659\n",
            " 0.60777154 0.66628959 0.63616664 0.64696336 0.64141703 0.61433931\n",
            " 0.64022854 0.64118315 0.64023808 0.64241461 0.62481624 0.60852092\n",
            " 0.58743342 0.67352559 0.70514252 0.71932337 0.80759207 0.83214961\n",
            " 0.82806384 0.88691601 0.90989843 0.89282032 0.89718292 0.95915192\n",
            " 1.         0.98790022 0.16927755 0.15817057 0.14495867 0.12568971\n",
            " 0.13109285 0.08903717 0.1062537  0.10866888 0.10932757 0.11602801\n",
            " 0.11216904 0.10811688 0.10296168 0.09726443 0.09199928 0.08797093\n",
            " 0.08565264 0.08519619 0.08649538 0.08926393 0.09311211 0.09761359\n",
            " 0.10235767 0.10698564 0.11121226 0.11483432 0.11772922 0.11984582\n",
            " 0.12119117 0.12181495 0.12179422 0.12121981]\n",
            "23 day output [[0.12018555]]\n",
            "24 day input [0.322928   0.31604521 0.32997785 0.36009603 0.35220135 0.35286958\n",
            " 0.34400118 0.35415831 0.38483017 0.38041507 0.42069038 0.39577009\n",
            " 0.37784237 0.40439029 0.40020429 0.40481509 0.41062394 0.40916337\n",
            " 0.40602268 0.4095834  0.39004716 0.40204193 0.38951735 0.41319663\n",
            " 0.44682781 0.46583424 0.50832904 0.58609218 0.59481738 0.58337152\n",
            " 0.59692709 0.6687     0.64598488 0.65540695 0.66934914 0.64769364\n",
            " 0.64778911 0.71564332 0.68001699 0.69145808 0.65362659 0.60777154\n",
            " 0.66628959 0.63616664 0.64696336 0.64141703 0.61433931 0.64022854\n",
            " 0.64118315 0.64023808 0.64241461 0.62481624 0.60852092 0.58743342\n",
            " 0.67352559 0.70514252 0.71932337 0.80759207 0.83214961 0.82806384\n",
            " 0.88691601 0.90989843 0.89282032 0.89718292 0.95915192 1.\n",
            " 0.98790022 0.16927755 0.15817057 0.14495867 0.12568971 0.13109285\n",
            " 0.08903717 0.1062537  0.10866888 0.10932757 0.11602801 0.11216904\n",
            " 0.10811688 0.10296168 0.09726443 0.09199928 0.08797093 0.08565264\n",
            " 0.08519619 0.08649538 0.08926393 0.09311211 0.09761359 0.10235767\n",
            " 0.10698564 0.11121226 0.11483432 0.11772922 0.11984582 0.12119117\n",
            " 0.12181495 0.12179422 0.12121981 0.12018555]\n",
            "24 day output [[0.11878067]]\n",
            "25 day input [0.31604521 0.32997785 0.36009603 0.35220135 0.35286958 0.34400118\n",
            " 0.35415831 0.38483017 0.38041507 0.42069038 0.39577009 0.37784237\n",
            " 0.40439029 0.40020429 0.40481509 0.41062394 0.40916337 0.40602268\n",
            " 0.4095834  0.39004716 0.40204193 0.38951735 0.41319663 0.44682781\n",
            " 0.46583424 0.50832904 0.58609218 0.59481738 0.58337152 0.59692709\n",
            " 0.6687     0.64598488 0.65540695 0.66934914 0.64769364 0.64778911\n",
            " 0.71564332 0.68001699 0.69145808 0.65362659 0.60777154 0.66628959\n",
            " 0.63616664 0.64696336 0.64141703 0.61433931 0.64022854 0.64118315\n",
            " 0.64023808 0.64241461 0.62481624 0.60852092 0.58743342 0.67352559\n",
            " 0.70514252 0.71932337 0.80759207 0.83214961 0.82806384 0.88691601\n",
            " 0.90989843 0.89282032 0.89718292 0.95915192 1.         0.98790022\n",
            " 0.16927755 0.15817057 0.14495867 0.12568971 0.13109285 0.08903717\n",
            " 0.1062537  0.10866888 0.10932757 0.11602801 0.11216904 0.10811688\n",
            " 0.10296168 0.09726443 0.09199928 0.08797093 0.08565264 0.08519619\n",
            " 0.08649538 0.08926393 0.09311211 0.09761359 0.10235767 0.10698564\n",
            " 0.11121226 0.11483432 0.11772922 0.11984582 0.12119117 0.12181495\n",
            " 0.12179422 0.12121981 0.12018555 0.11878067]\n",
            "25 day output [[0.11708498]]\n",
            "26 day input [0.32997785 0.36009603 0.35220135 0.35286958 0.34400118 0.35415831\n",
            " 0.38483017 0.38041507 0.42069038 0.39577009 0.37784237 0.40439029\n",
            " 0.40020429 0.40481509 0.41062394 0.40916337 0.40602268 0.4095834\n",
            " 0.39004716 0.40204193 0.38951735 0.41319663 0.44682781 0.46583424\n",
            " 0.50832904 0.58609218 0.59481738 0.58337152 0.59692709 0.6687\n",
            " 0.64598488 0.65540695 0.66934914 0.64769364 0.64778911 0.71564332\n",
            " 0.68001699 0.69145808 0.65362659 0.60777154 0.66628959 0.63616664\n",
            " 0.64696336 0.64141703 0.61433931 0.64022854 0.64118315 0.64023808\n",
            " 0.64241461 0.62481624 0.60852092 0.58743342 0.67352559 0.70514252\n",
            " 0.71932337 0.80759207 0.83214961 0.82806384 0.88691601 0.90989843\n",
            " 0.89282032 0.89718292 0.95915192 1.         0.98790022 0.16927755\n",
            " 0.15817057 0.14495867 0.12568971 0.13109285 0.08903717 0.1062537\n",
            " 0.10866888 0.10932757 0.11602801 0.11216904 0.10811688 0.10296168\n",
            " 0.09726443 0.09199928 0.08797093 0.08565264 0.08519619 0.08649538\n",
            " 0.08926393 0.09311211 0.09761359 0.10235767 0.10698564 0.11121226\n",
            " 0.11483432 0.11772922 0.11984582 0.12119117 0.12181495 0.12179422\n",
            " 0.12121981 0.12018555 0.11878067 0.11708498]\n",
            "26 day output [[0.11516719]]\n",
            "27 day input [0.36009603 0.35220135 0.35286958 0.34400118 0.35415831 0.38483017\n",
            " 0.38041507 0.42069038 0.39577009 0.37784237 0.40439029 0.40020429\n",
            " 0.40481509 0.41062394 0.40916337 0.40602268 0.4095834  0.39004716\n",
            " 0.40204193 0.38951735 0.41319663 0.44682781 0.46583424 0.50832904\n",
            " 0.58609218 0.59481738 0.58337152 0.59692709 0.6687     0.64598488\n",
            " 0.65540695 0.66934914 0.64769364 0.64778911 0.71564332 0.68001699\n",
            " 0.69145808 0.65362659 0.60777154 0.66628959 0.63616664 0.64696336\n",
            " 0.64141703 0.61433931 0.64022854 0.64118315 0.64023808 0.64241461\n",
            " 0.62481624 0.60852092 0.58743342 0.67352559 0.70514252 0.71932337\n",
            " 0.80759207 0.83214961 0.82806384 0.88691601 0.90989843 0.89282032\n",
            " 0.89718292 0.95915192 1.         0.98790022 0.16927755 0.15817057\n",
            " 0.14495867 0.12568971 0.13109285 0.08903717 0.1062537  0.10866888\n",
            " 0.10932757 0.11602801 0.11216904 0.10811688 0.10296168 0.09726443\n",
            " 0.09199928 0.08797093 0.08565264 0.08519619 0.08649538 0.08926393\n",
            " 0.09311211 0.09761359 0.10235767 0.10698564 0.11121226 0.11483432\n",
            " 0.11772922 0.11984582 0.12119117 0.12181495 0.12179422 0.12121981\n",
            " 0.12018555 0.11878067 0.11708498 0.11516719]\n",
            "27 day output [[0.11308461]]\n",
            "28 day input [0.35220135 0.35286958 0.34400118 0.35415831 0.38483017 0.38041507\n",
            " 0.42069038 0.39577009 0.37784237 0.40439029 0.40020429 0.40481509\n",
            " 0.41062394 0.40916337 0.40602268 0.4095834  0.39004716 0.40204193\n",
            " 0.38951735 0.41319663 0.44682781 0.46583424 0.50832904 0.58609218\n",
            " 0.59481738 0.58337152 0.59692709 0.6687     0.64598488 0.65540695\n",
            " 0.66934914 0.64769364 0.64778911 0.71564332 0.68001699 0.69145808\n",
            " 0.65362659 0.60777154 0.66628959 0.63616664 0.64696336 0.64141703\n",
            " 0.61433931 0.64022854 0.64118315 0.64023808 0.64241461 0.62481624\n",
            " 0.60852092 0.58743342 0.67352559 0.70514252 0.71932337 0.80759207\n",
            " 0.83214961 0.82806384 0.88691601 0.90989843 0.89282032 0.89718292\n",
            " 0.95915192 1.         0.98790022 0.16927755 0.15817057 0.14495867\n",
            " 0.12568971 0.13109285 0.08903717 0.1062537  0.10866888 0.10932757\n",
            " 0.11602801 0.11216904 0.10811688 0.10296168 0.09726443 0.09199928\n",
            " 0.08797093 0.08565264 0.08519619 0.08649538 0.08926393 0.09311211\n",
            " 0.09761359 0.10235767 0.10698564 0.11121226 0.11483432 0.11772922\n",
            " 0.11984582 0.12119117 0.12181495 0.12179422 0.12121981 0.12018555\n",
            " 0.11878067 0.11708498 0.11516719 0.11308461]\n",
            "28 day output [[0.11088464]]\n",
            "29 day input [0.35286958 0.34400118 0.35415831 0.38483017 0.38041507 0.42069038\n",
            " 0.39577009 0.37784237 0.40439029 0.40020429 0.40481509 0.41062394\n",
            " 0.40916337 0.40602268 0.4095834  0.39004716 0.40204193 0.38951735\n",
            " 0.41319663 0.44682781 0.46583424 0.50832904 0.58609218 0.59481738\n",
            " 0.58337152 0.59692709 0.6687     0.64598488 0.65540695 0.66934914\n",
            " 0.64769364 0.64778911 0.71564332 0.68001699 0.69145808 0.65362659\n",
            " 0.60777154 0.66628959 0.63616664 0.64696336 0.64141703 0.61433931\n",
            " 0.64022854 0.64118315 0.64023808 0.64241461 0.62481624 0.60852092\n",
            " 0.58743342 0.67352559 0.70514252 0.71932337 0.80759207 0.83214961\n",
            " 0.82806384 0.88691601 0.90989843 0.89282032 0.89718292 0.95915192\n",
            " 1.         0.98790022 0.16927755 0.15817057 0.14495867 0.12568971\n",
            " 0.13109285 0.08903717 0.1062537  0.10866888 0.10932757 0.11602801\n",
            " 0.11216904 0.10811688 0.10296168 0.09726443 0.09199928 0.08797093\n",
            " 0.08565264 0.08519619 0.08649538 0.08926393 0.09311211 0.09761359\n",
            " 0.10235767 0.10698564 0.11121226 0.11483432 0.11772922 0.11984582\n",
            " 0.12119117 0.12181495 0.12179422 0.12121981 0.12018555 0.11878067\n",
            " 0.11708498 0.11516719 0.11308461 0.11088464]\n",
            "29 day output [[0.10860648]]\n",
            "[[0.11602801084518433], [0.1121690422296524], [0.10811688005924225], [0.10296168178319931], [0.09726443141698837], [0.09199927747249603], [0.08797092735767365], [0.08565264195203781], [0.08519618958234787], [0.08649538457393646], [0.0892639309167862], [0.09311211109161377], [0.09761358797550201], [0.10235767066478729], [0.10698564350605011], [0.11121226102113724], [0.11483432352542877], [0.11772922426462173], [0.11984582245349884], [0.12119116634130478], [0.12181495130062103], [0.1217942163348198], [0.12121980637311935], [0.12018554657697678], [0.11878066509962082], [0.11708498001098633], [0.11516718566417694], [0.11308461427688599], [0.1108846440911293], [0.1086064800620079]]\n"
          ],
          "name": "stdout"
        }
      ]
    },
    {
      "cell_type": "code",
      "metadata": {
        "id": "bwSVNmiNkff0",
        "colab_type": "code",
        "colab": {
          "base_uri": "https://localhost:8080/",
          "height": 34
        },
        "outputId": "6af721ac-2461-4b38-b2bb-023908b26751"
      },
      "source": [
        "day_new=np.arange(1,101)\n",
        "day_pred=np.arange(101,131)\n",
        "len(df1)"
      ],
      "execution_count": 145,
      "outputs": [
        {
          "output_type": "execute_result",
          "data": {
            "text/plain": [
              "1257"
            ]
          },
          "metadata": {
            "tags": []
          },
          "execution_count": 145
        }
      ]
    },
    {
      "cell_type": "code",
      "metadata": {
        "id": "WTee_wjuv8XJ",
        "colab_type": "code",
        "colab": {
          "base_uri": "https://localhost:8080/",
          "height": 282
        },
        "outputId": "36196020-dd3c-4c83-9ffe-a96ea74f0c18"
      },
      "source": [
        "plt.plot(day_new,scaler.inverse_transform(df1[1157:]))\n",
        "plt.plot(day_pred,scaler.inverse_transform(lst_output))"
      ],
      "execution_count": 146,
      "outputs": [
        {
          "output_type": "execute_result",
          "data": {
            "text/plain": [
              "[<matplotlib.lines.Line2D at 0x7fc865a85860>]"
            ]
          },
          "metadata": {
            "tags": []
          },
          "execution_count": 146
        },
        {
          "output_type": "display_data",
          "data": {
            "image/png": "[encoded data removed]",
            "text/plain": [
              "<Figure size 432x288 with 1 Axes>"
            ]
          },
          "metadata": {
            "tags": [],
            "needs_background": "light"
          }
        }
      ]
    },
    {
      "cell_type": "code",
      "metadata": {
        "id": "Qu6QGiy4wGeC",
        "colab_type": "code",
        "colab": {
          "base_uri": "https://localhost:8080/",
          "height": 282
        },
        "outputId": "fbcbd70c-1066-4a5a-dcab-22e32133b789"
      },
      "source": [
        "df3=df1.tolist()\n",
        "df3.extend(lst_output)\n",
        "plt.plot(df3[1200:])"
      ],
      "execution_count": 147,
      "outputs": [
        {
          "output_type": "execute_result",
          "data": {
            "text/plain": [
              "[<matplotlib.lines.Line2D at 0x7fc865a2f7f0>]"
            ]
          },
          "metadata": {
            "tags": []
          },
          "execution_count": 147
        },
        {
          "output_type": "display_data",
          "data": {
            "image/png": "[encoded data removed]",
            "text/plain": [
              "<Figure size 432x288 with 1 Axes>"
            ]
          },
          "metadata": {
            "tags": [],
            "needs_background": "light"
          }
        }
      ]
    },
    {
      "cell_type": "code",
      "metadata": {
        "id": "8bnSLOxjwVoe",
        "colab_type": "code",
        "colab": {
          "base_uri": "https://localhost:8080/",
          "height": 282
        },
        "outputId": "e7fa5c05-1c98-4cf6-a594-825a6f96741a"
      },
      "source": [
        "df3=scaler.inverse_transform(df3).tolist()\n",
        "plt.plot(df3)"
      ],
      "execution_count": 148,
      "outputs": [
        {
          "output_type": "execute_result",
          "data": {
            "text/plain": [
              "[<matplotlib.lines.Line2D at 0x7fc865a8b390>]"
            ]
          },
          "metadata": {
            "tags": []
          },
          "execution_count": 148
        },
        {
          "output_type": "display_data",
          "data": {
            "image/png": "[encoded data removed]",
            "text/plain": [
              "<Figure size 432x288 with 1 Axes>"
            ]
          },
          "metadata": {
            "tags": [],
            "needs_background": "light"
          }
        }
      ]
    },
    {
      "cell_type": "code",
      "metadata": {
        "id": "n9ucfrg3wZ0X",
        "colab_type": "code",
        "colab": {}
      },
      "source": [
        ""
      ],
      "execution_count": null,
      "outputs": []
    }
  ]
}
